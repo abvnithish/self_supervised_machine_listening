{
 "cells": [
  {
   "cell_type": "code",
   "execution_count": 38,
   "metadata": {
    "scrolled": false
   },
   "outputs": [
    {
     "name": "stdout",
     "output_type": "stream",
     "text": [
      "The autoreload extension is already loaded. To reload it, use:\n",
      "  %reload_ext autoreload\n"
     ]
    }
   ],
   "source": [
    "%load_ext autoreload"
   ]
  },
  {
   "cell_type": "code",
   "execution_count": 39,
   "metadata": {},
   "outputs": [],
   "source": [
    "%autoreload 2"
   ]
  },
  {
   "cell_type": "code",
   "execution_count": 40,
   "metadata": {},
   "outputs": [],
   "source": [
    "from master import *\n",
    "from models import *\n",
    "from torchsummary import summary"
   ]
  },
  {
   "cell_type": "code",
   "execution_count": 41,
   "metadata": {},
   "outputs": [],
   "source": [
    "DEVICE = torch.device('cuda:0' if torch.cuda.is_available() else 'cpu')\n",
    "DATASET='large'\n",
    "ROOT_DIR = f'/beegfs/bva212/fma_{DATASET}_cqt/'\n",
    "PATH_FILE = 'checksums'\n",
    "BATCH_SIZE = 32\n",
    "VAL_SPLIT = 0.2\n",
    "TRANSFORM_PROB  = 0.5\n",
    "SR = 22050\n",
    "MODEL_SAVE_PATH = '/beegfs/sc6957/capstone/models/'\n",
    "MODE = 'jigsaw'\n",
    "MODEL_ARCHITECTURE = 'snet2'  #['l3net','snet',snet2',anet']\n",
    "SEPARABLE = False\n",
    "REDUCE_TWO_CLASS = True #Applies to jigsaw (6-class to 2-class)\n",
    "NUM_SECONDS=10\n",
    "TRANSFORM_DATA = False"
   ]
  },
  {
   "cell_type": "code",
   "execution_count": 42,
   "metadata": {
    "scrolled": true
   },
   "outputs": [
    {
     "name": "stdout",
     "output_type": "stream",
     "text": [
      "Instantiating Model snet2_jigsaw\n",
      "Number of Seconds: 10\n",
      "MODE: jigsaw\n",
      "Getting Train & Validation Datasets\n",
      "Excluding these 3 files - ['098/098567.mp3_cqt.npy', '098/098565.mp3_cqt.npy', '098/098569.mp3_cqt.npy']\n",
      "There are a total of 106410 music files in the root directory\n",
      "# Training samples: 85127 \t # Validation samples: 21282\n",
      "\t --Done\n",
      "Creating Train & Validation Dataloaders\n",
      "Length of Train dataloader: 2661 \t Validation dataloader: 666\n",
      "\t --Done\n",
      "\t --Done\n",
      "Init actions done\n",
      "time for instantiating audio net object - 29.157325267791748\n"
     ]
    }
   ],
   "source": [
    "start = time.time()\n",
    "MODEL,MODEL_NAME = load_model(DEVICE, MODEL_ARCHITECTURE, MODE, SEPARABLE)\n",
    "master = Master(DEVICE, ROOT_DIR, PATH_FILE, SR, BATCH_SIZE, VAL_SPLIT, TRANSFORM_PROB, REDUCE_TWO_CLASS, MODE, MODEL, NUM_SECONDS, TRANSFORM_DATA)\n",
    "print(f'time for instantiating audio net object - {time.time() - start}')"
   ]
  },
  {
   "cell_type": "code",
   "execution_count": 43,
   "metadata": {},
   "outputs": [],
   "source": [
    "# start = time.time()\n",
    "# batch = next(iter(master.dataloaders['train']))\n",
    "# print(f'time for fetching one batch - {time.time() - start}')"
   ]
  },
  {
   "cell_type": "code",
   "execution_count": 44,
   "metadata": {
    "scrolled": false
   },
   "outputs": [
    {
     "data": {
      "text/plain": [
       "snet2_jigsaw(\n",
       "  (conv_layers): Sequential(\n",
       "    (0): Conv2d(1, 16, kernel_size=(5, 5), stride=(2, 2), padding=(5, 5))\n",
       "    (1): BatchNorm2d(16, eps=1e-05, momentum=0.1, affine=True, track_running_stats=True)\n",
       "    (2): ReLU(inplace=True)\n",
       "    (3): Conv2d(16, 32, kernel_size=(5, 5), stride=(2, 2), padding=(5, 5))\n",
       "    (4): BatchNorm2d(32, eps=1e-05, momentum=0.1, affine=True, track_running_stats=True)\n",
       "    (5): ReLU(inplace=True)\n",
       "    (6): Conv2d(32, 64, kernel_size=(5, 5), stride=(1, 1), padding=(5, 5))\n",
       "    (7): BatchNorm2d(64, eps=1e-05, momentum=0.1, affine=True, track_running_stats=True)\n",
       "    (8): ReLU(inplace=True)\n",
       "    (9): AvgPool2d(kernel_size=3, stride=3, padding=0)\n",
       "    (10): Conv2d(64, 128, kernel_size=(4, 4), stride=(1, 1), padding=(4, 4))\n",
       "    (11): BatchNorm2d(128, eps=1e-05, momentum=0.1, affine=True, track_running_stats=True)\n",
       "    (12): ReLU(inplace=True)\n",
       "    (13): Conv2d(128, 256, kernel_size=(4, 4), stride=(1, 1), padding=(4, 4))\n",
       "    (14): BatchNorm2d(256, eps=1e-05, momentum=0.1, affine=True, track_running_stats=True)\n",
       "    (15): ReLU(inplace=True)\n",
       "    (16): AvgPool2d(kernel_size=3, stride=3, padding=0)\n",
       "    (17): Conv2d(256, 512, kernel_size=(3, 3), stride=(2, 2), padding=(3, 3))\n",
       "    (18): BatchNorm2d(512, eps=1e-05, momentum=0.1, affine=True, track_running_stats=True)\n",
       "    (19): ReLU(inplace=True)\n",
       "    (20): Conv2d(512, 1024, kernel_size=(3, 3), stride=(2, 2), padding=(3, 3))\n",
       "    (21): BatchNorm2d(1024, eps=1e-05, momentum=0.1, affine=True, track_running_stats=True)\n",
       "    (22): ReLU(inplace=True)\n",
       "    (23): AdaptiveAvgPool2d(output_size=1)\n",
       "  )\n",
       "  (concat_mlp_layer): Sequential(\n",
       "    (0): Linear(in_features=3072, out_features=2048, bias=True)\n",
       "    (1): BatchNorm1d(2048, eps=1e-05, momentum=0.1, affine=True, track_running_stats=True)\n",
       "    (2): ReLU(inplace=True)\n",
       "    (3): Linear(in_features=2048, out_features=1024, bias=True)\n",
       "    (4): BatchNorm1d(1024, eps=1e-05, momentum=0.1, affine=True, track_running_stats=True)\n",
       "    (5): ReLU(inplace=True)\n",
       "    (6): Linear(in_features=1024, out_features=256, bias=True)\n",
       "    (7): BatchNorm1d(256, eps=1e-05, momentum=0.1, affine=True, track_running_stats=True)\n",
       "    (8): ReLU(inplace=True)\n",
       "  )\n",
       "  (mlp_layer): Linear(in_features=256, out_features=2, bias=True)\n",
       ")"
      ]
     },
     "execution_count": 44,
     "metadata": {},
     "output_type": "execute_result"
    }
   ],
   "source": [
    "master.model"
   ]
  },
  {
   "cell_type": "code",
   "execution_count": 45,
   "metadata": {
    "scrolled": true
   },
   "outputs": [
    {
     "data": {
      "text/plain": [
       "torch.Size([3, 84, 135])"
      ]
     },
     "execution_count": 45,
     "metadata": {},
     "output_type": "execute_result"
    }
   ],
   "source": [
    "master.input_size"
   ]
  },
  {
   "cell_type": "code",
   "execution_count": 46,
   "metadata": {},
   "outputs": [
    {
     "name": "stdout",
     "output_type": "stream",
     "text": [
      "----------------------------------------------------------------\n",
      "        Layer (type)               Output Shape         Param #\n",
      "================================================================\n",
      "            Conv2d-1           [-1, 16, 45, 71]             416\n",
      "       BatchNorm2d-2           [-1, 16, 45, 71]              32\n",
      "              ReLU-3           [-1, 16, 45, 71]               0\n",
      "            Conv2d-4           [-1, 32, 26, 39]          12,832\n",
      "       BatchNorm2d-5           [-1, 32, 26, 39]              64\n",
      "              ReLU-6           [-1, 32, 26, 39]               0\n",
      "            Conv2d-7           [-1, 64, 32, 45]          51,264\n",
      "       BatchNorm2d-8           [-1, 64, 32, 45]             128\n",
      "              ReLU-9           [-1, 64, 32, 45]               0\n",
      "        AvgPool2d-10           [-1, 64, 10, 15]               0\n",
      "           Conv2d-11          [-1, 128, 15, 20]         131,200\n",
      "      BatchNorm2d-12          [-1, 128, 15, 20]             256\n",
      "             ReLU-13          [-1, 128, 15, 20]               0\n",
      "           Conv2d-14          [-1, 256, 20, 25]         524,544\n",
      "      BatchNorm2d-15          [-1, 256, 20, 25]             512\n",
      "             ReLU-16          [-1, 256, 20, 25]               0\n",
      "        AvgPool2d-17            [-1, 256, 6, 8]               0\n",
      "           Conv2d-18            [-1, 512, 5, 6]       1,180,160\n",
      "      BatchNorm2d-19            [-1, 512, 5, 6]           1,024\n",
      "             ReLU-20            [-1, 512, 5, 6]               0\n",
      "           Conv2d-21           [-1, 1024, 5, 5]       4,719,616\n",
      "      BatchNorm2d-22           [-1, 1024, 5, 5]           2,048\n",
      "             ReLU-23           [-1, 1024, 5, 5]               0\n",
      "AdaptiveAvgPool2d-24           [-1, 1024, 1, 1]               0\n",
      "           Conv2d-25           [-1, 16, 45, 71]             416\n",
      "      BatchNorm2d-26           [-1, 16, 45, 71]              32\n",
      "             ReLU-27           [-1, 16, 45, 71]               0\n",
      "           Conv2d-28           [-1, 32, 26, 39]          12,832\n",
      "      BatchNorm2d-29           [-1, 32, 26, 39]              64\n",
      "             ReLU-30           [-1, 32, 26, 39]               0\n",
      "           Conv2d-31           [-1, 64, 32, 45]          51,264\n",
      "      BatchNorm2d-32           [-1, 64, 32, 45]             128\n",
      "             ReLU-33           [-1, 64, 32, 45]               0\n",
      "        AvgPool2d-34           [-1, 64, 10, 15]               0\n",
      "           Conv2d-35          [-1, 128, 15, 20]         131,200\n",
      "      BatchNorm2d-36          [-1, 128, 15, 20]             256\n",
      "             ReLU-37          [-1, 128, 15, 20]               0\n",
      "           Conv2d-38          [-1, 256, 20, 25]         524,544\n",
      "      BatchNorm2d-39          [-1, 256, 20, 25]             512\n",
      "             ReLU-40          [-1, 256, 20, 25]               0\n",
      "        AvgPool2d-41            [-1, 256, 6, 8]               0\n",
      "           Conv2d-42            [-1, 512, 5, 6]       1,180,160\n",
      "      BatchNorm2d-43            [-1, 512, 5, 6]           1,024\n",
      "             ReLU-44            [-1, 512, 5, 6]               0\n",
      "           Conv2d-45           [-1, 1024, 5, 5]       4,719,616\n",
      "      BatchNorm2d-46           [-1, 1024, 5, 5]           2,048\n",
      "             ReLU-47           [-1, 1024, 5, 5]               0\n",
      "AdaptiveAvgPool2d-48           [-1, 1024, 1, 1]               0\n",
      "           Conv2d-49           [-1, 16, 45, 71]             416\n",
      "      BatchNorm2d-50           [-1, 16, 45, 71]              32\n",
      "             ReLU-51           [-1, 16, 45, 71]               0\n",
      "           Conv2d-52           [-1, 32, 26, 39]          12,832\n",
      "      BatchNorm2d-53           [-1, 32, 26, 39]              64\n",
      "             ReLU-54           [-1, 32, 26, 39]               0\n",
      "           Conv2d-55           [-1, 64, 32, 45]          51,264\n",
      "      BatchNorm2d-56           [-1, 64, 32, 45]             128\n",
      "             ReLU-57           [-1, 64, 32, 45]               0\n",
      "        AvgPool2d-58           [-1, 64, 10, 15]               0\n",
      "           Conv2d-59          [-1, 128, 15, 20]         131,200\n",
      "      BatchNorm2d-60          [-1, 128, 15, 20]             256\n",
      "             ReLU-61          [-1, 128, 15, 20]               0\n",
      "           Conv2d-62          [-1, 256, 20, 25]         524,544\n",
      "      BatchNorm2d-63          [-1, 256, 20, 25]             512\n",
      "             ReLU-64          [-1, 256, 20, 25]               0\n",
      "        AvgPool2d-65            [-1, 256, 6, 8]               0\n",
      "           Conv2d-66            [-1, 512, 5, 6]       1,180,160\n",
      "      BatchNorm2d-67            [-1, 512, 5, 6]           1,024\n",
      "             ReLU-68            [-1, 512, 5, 6]               0\n",
      "           Conv2d-69           [-1, 1024, 5, 5]       4,719,616\n",
      "      BatchNorm2d-70           [-1, 1024, 5, 5]           2,048\n",
      "             ReLU-71           [-1, 1024, 5, 5]               0\n",
      "AdaptiveAvgPool2d-72           [-1, 1024, 1, 1]               0\n",
      "           Linear-73                 [-1, 2048]       6,293,504\n",
      "      BatchNorm1d-74                 [-1, 2048]           4,096\n",
      "             ReLU-75                 [-1, 2048]               0\n",
      "           Linear-76                 [-1, 1024]       2,098,176\n",
      "      BatchNorm1d-77                 [-1, 1024]           2,048\n",
      "             ReLU-78                 [-1, 1024]               0\n",
      "           Linear-79                  [-1, 256]         262,400\n",
      "      BatchNorm1d-80                  [-1, 256]             512\n",
      "             ReLU-81                  [-1, 256]               0\n",
      "           Linear-82                    [-1, 2]             514\n",
      "================================================================\n",
      "Total params: 28,533,538\n",
      "Trainable params: 28,533,538\n",
      "Non-trainable params: 0\n",
      "----------------------------------------------------------------\n",
      "Input size (MB): 0.13\n",
      "Forward/backward pass size (MB): 26.91\n",
      "Params size (MB): 108.85\n",
      "Estimated Total Size (MB): 135.88\n",
      "----------------------------------------------------------------\n"
     ]
    }
   ],
   "source": [
    "summary(master.model,input_size=master.input_size)"
   ]
  },
  {
   "cell_type": "code",
   "execution_count": 47,
   "metadata": {},
   "outputs": [],
   "source": [
    "MODEL_SAVE_PATH = MODEL_SAVE_PATH+MODEL_NAME+f'_{DATASET}_'"
   ]
  },
  {
   "cell_type": "code",
   "execution_count": null,
   "metadata": {
    "scrolled": false
   },
   "outputs": [
    {
     "name": "stdout",
     "output_type": "stream",
     "text": [
      "Saving model at /beegfs/sc6957/capstone/models/snet2_jigsaw_large_\n",
      "Instantiating Optimzer, Loss Criterion, Scheduler\n",
      "\t --Done\n",
      "Training started\n",
      "Epoch 1/25\n",
      "----------\n",
      "Phase: train   Iteration 2189/2661\r"
     ]
    }
   ],
   "source": [
    "master.train(num_epochs= 25, learning_rate=1e-5, print_every=5, verbose=True, save=True, checkpoint_every=5, model_save_path = MODEL_SAVE_PATH)"
   ]
  },
  {
   "cell_type": "code",
   "execution_count": null,
   "metadata": {},
   "outputs": [],
   "source": []
  }
 ],
 "metadata": {
  "kernelspec": {
   "display_name": "Python 3",
   "language": "python",
   "name": "python3"
  },
  "language_info": {
   "codemirror_mode": {
    "name": "ipython",
    "version": 3
   },
   "file_extension": ".py",
   "mimetype": "text/x-python",
   "name": "python",
   "nbconvert_exporter": "python",
   "pygments_lexer": "ipython3",
   "version": "3.7.3"
  }
 },
 "nbformat": 4,
 "nbformat_minor": 4
}
