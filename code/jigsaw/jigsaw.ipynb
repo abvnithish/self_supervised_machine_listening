{
 "cells": [
  {
   "cell_type": "code",
   "execution_count": 127,
   "metadata": {
    "scrolled": true
   },
   "outputs": [
    {
     "name": "stdout",
     "output_type": "stream",
     "text": [
      "The autoreload extension is already loaded. To reload it, use:\n",
      "  %reload_ext autoreload\n"
     ]
    }
   ],
   "source": [
    "%load_ext autoreload"
   ]
  },
  {
   "cell_type": "code",
   "execution_count": 128,
   "metadata": {},
   "outputs": [],
   "source": [
    "%autoreload 2"
   ]
  },
  {
   "cell_type": "code",
   "execution_count": 152,
   "metadata": {},
   "outputs": [],
   "source": [
    "from master import *\n",
    "from models import *\n",
    "from torchsummary import summary"
   ]
  },
  {
   "cell_type": "code",
   "execution_count": 153,
   "metadata": {},
   "outputs": [
    {
     "name": "stdout",
     "output_type": "stream",
     "text": [
      "cuda:0\n"
     ]
    }
   ],
   "source": [
    "DEVICE = torch.device('cuda:0' if torch.cuda.is_available() else 'cpu')\n",
    "print(DEVICE)\n",
    "ROOT_DIR = '/beegfs/bva212/fma_small_cqt/'\n",
    "PATH_FILE = 'checksums'\n",
    "BATCH_SIZE = 32\n",
    "VAL_SPLIT = 0.2\n",
    "TRANSFORM_PROB  = 0.5\n",
    "SR = 22050\n",
    "MODEL_SAVE_PATH = '/beegfs/sc6957/audionet_jigsaw_model.pth'\n",
    "MODE = 'jigsaw'\n",
    "MODEL_ARCHITECTURE = 'snet'  #['l3net','snet','anet']\n",
    "SEPARABLE = True\n",
    "REDUCE_TWO_CLASS = True #Applies to jigsaw (6-class to 2-class)\n",
    "NUM_SECONDS=10"
   ]
  },
  {
   "cell_type": "code",
   "execution_count": 154,
   "metadata": {
    "scrolled": true
   },
   "outputs": [
    {
     "name": "stdout",
     "output_type": "stream",
     "text": [
      "Instantiating Model snet_jigsaw_separable\n",
      "MODE: jigsaw\n",
      "Getting Train & Validation Datasets\n",
      "Excluding these 3 files - ['098/098567.mp3_cqt.npy', '098/098565.mp3_cqt.npy', '098/098569.mp3_cqt.npy']\n",
      "There are a total of 7836 music files in the root directory\n",
      "# Training samples: 6268 \t # Validation samples: 1567\n",
      "\t --Done\n",
      "Creating Train & Validation Dataloaders\n",
      "Length of Train dataloader: 196 \t Validation dataloader: 49\n",
      "\t --Done\n",
      "\t --Done\n",
      "Init actions done\n",
      "time for instantiating audio net object - 1.796952724456787\n"
     ]
    }
   ],
   "source": [
    "start = time.time()\n",
    "MODEL = load_model(DEVICE, MODEL_ARCHITECTURE, MODE, SEPARABLE)\n",
    "master = Master(DEVICE, ROOT_DIR, PATH_FILE, SR, BATCH_SIZE, VAL_SPLIT, TRANSFORM_PROB, REDUCE_TWO_CLASS, MODE, MODEL, NUM_SECONDS)\n",
    "print(f'time for instantiating audio net object - {time.time() - start}')"
   ]
  },
  {
   "cell_type": "code",
   "execution_count": 155,
   "metadata": {
    "scrolled": true
   },
   "outputs": [
    {
     "data": {
      "text/plain": [
       "DataParallel(\n",
       "  (module): snet_jigsaw_separable(\n",
       "    (conv_layers): Sequential(\n",
       "      (0): Conv2d(3, 3, kernel_size=(5, 5), stride=(2, 2), padding=(4, 4), groups=3)\n",
       "      (1): Conv2d(3, 16, kernel_size=(1, 1), stride=(2, 2), padding=(1, 1))\n",
       "      (2): BatchNorm2d(16, eps=1e-05, momentum=0.1, affine=True, track_running_stats=True)\n",
       "      (3): ReLU(inplace=True)\n",
       "      (4): MaxPool2d(kernel_size=4, stride=(1, 2), padding=0, dilation=1, ceil_mode=False)\n",
       "      (5): Conv2d(16, 32, kernel_size=(5, 5), stride=(2, 2), padding=(4, 4))\n",
       "      (6): BatchNorm2d(32, eps=1e-05, momentum=0.1, affine=True, track_running_stats=True)\n",
       "      (7): ReLU(inplace=True)\n",
       "      (8): MaxPool2d(kernel_size=3, stride=(1, 2), padding=0, dilation=1, ceil_mode=False)\n",
       "      (9): Conv2d(32, 64, kernel_size=(4, 4), stride=(2, 2), padding=(3, 3))\n",
       "      (10): BatchNorm2d(64, eps=1e-05, momentum=0.1, affine=True, track_running_stats=True)\n",
       "      (11): ReLU(inplace=True)\n",
       "      (12): Conv2d(64, 128, kernel_size=(4, 4), stride=(2, 2), padding=(3, 3))\n",
       "      (13): BatchNorm2d(128, eps=1e-05, momentum=0.1, affine=True, track_running_stats=True)\n",
       "      (14): ReLU(inplace=True)\n",
       "      (15): Conv2d(128, 256, kernel_size=(4, 4), stride=(2, 2), padding=(3, 3))\n",
       "      (16): BatchNorm2d(256, eps=1e-05, momentum=0.1, affine=True, track_running_stats=True)\n",
       "      (17): ReLU(inplace=True)\n",
       "      (18): AdaptiveMaxPool2d(output_size=(1, 1))\n",
       "    )\n",
       "    (mlp_layer): Linear(in_features=256, out_features=2, bias=True)\n",
       "  )\n",
       ")"
      ]
     },
     "execution_count": 155,
     "metadata": {},
     "output_type": "execute_result"
    }
   ],
   "source": [
    "master.model"
   ]
  },
  {
   "cell_type": "code",
   "execution_count": 156,
   "metadata": {},
   "outputs": [
    {
     "data": {
      "text/plain": [
       "torch.Size([3, 84, 135])"
      ]
     },
     "execution_count": 156,
     "metadata": {},
     "output_type": "execute_result"
    }
   ],
   "source": [
    "master.input_size"
   ]
  },
  {
   "cell_type": "code",
   "execution_count": 157,
   "metadata": {},
   "outputs": [
    {
     "name": "stdout",
     "output_type": "stream",
     "text": [
      "----------------------------------------------------------------\n",
      "        Layer (type)               Output Shape         Param #\n",
      "================================================================\n",
      "            Conv2d-1            [-1, 3, 44, 70]              78\n",
      "            Conv2d-2           [-1, 16, 23, 36]              64\n",
      "       BatchNorm2d-3           [-1, 16, 23, 36]              32\n",
      "              ReLU-4           [-1, 16, 23, 36]               0\n",
      "         MaxPool2d-5           [-1, 16, 20, 17]               0\n",
      "            Conv2d-6           [-1, 32, 12, 11]          12,832\n",
      "       BatchNorm2d-7           [-1, 32, 12, 11]              64\n",
      "              ReLU-8           [-1, 32, 12, 11]               0\n",
      "         MaxPool2d-9            [-1, 32, 10, 5]               0\n",
      "           Conv2d-10             [-1, 64, 7, 4]          32,832\n",
      "      BatchNorm2d-11             [-1, 64, 7, 4]             128\n",
      "             ReLU-12             [-1, 64, 7, 4]               0\n",
      "           Conv2d-13            [-1, 128, 5, 4]         131,200\n",
      "      BatchNorm2d-14            [-1, 128, 5, 4]             256\n",
      "             ReLU-15            [-1, 128, 5, 4]               0\n",
      "           Conv2d-16            [-1, 256, 4, 4]         524,544\n",
      "      BatchNorm2d-17            [-1, 256, 4, 4]             512\n",
      "             ReLU-18            [-1, 256, 4, 4]               0\n",
      "AdaptiveMaxPool2d-19            [-1, 256, 1, 1]               0\n",
      "           Linear-20                    [-1, 2]             514\n",
      "snet_jigsaw_separable-21                    [-1, 2]               0\n",
      "================================================================\n",
      "Total params: 703,056\n",
      "Trainable params: 703,056\n",
      "Non-trainable params: 0\n",
      "----------------------------------------------------------------\n",
      "Input size (MB): 0.13\n",
      "Forward/backward pass size (MB): 0.72\n",
      "Params size (MB): 2.68\n",
      "Estimated Total Size (MB): 3.53\n",
      "----------------------------------------------------------------\n"
     ]
    }
   ],
   "source": [
    "summary(master.model,input_size=master.input_size)"
   ]
  },
  {
   "cell_type": "code",
   "execution_count": 159,
   "metadata": {
    "scrolled": true
   },
   "outputs": [
    {
     "name": "stdout",
     "output_type": "stream",
     "text": [
      "Instantiating Optimzer, Loss Criterion, Scheduler\n",
      "\t --Done\n",
      "Training started\n",
      "Epoch 1/10\n",
      "----------\n",
      "Phase: train   Iteration 196/196\n",
      "train Loss: 0.7013 Acc: 0.5243\n",
      "Phase: valid   Iteration 49/49\n",
      "valid Loss: 0.7403 Acc: 0.5271\n",
      "\n",
      "Successfully checkpointed model after 0 epochs\n",
      "Epoch 5/10id   Iteration 49/4996\n",
      "----------\n",
      "Phase: train   Iteration 196/196\n",
      "train Loss: 0.6892 Acc: 0.5354\n",
      "Phase: valid   Iteration 49/49\n",
      "valid Loss: 0.6761 Acc: 0.5495\n",
      "\n",
      "Successfully checkpointed model after 5 epochs\n",
      "Epoch 9/10id   Iteration 49/4996\n",
      "----------\n",
      "Phase: train   Iteration 196/196\n",
      "train Loss: 0.6764 Acc: 0.5614\n",
      "Phase: valid   Iteration 49/49\n",
      "valid Loss: 0.6826 Acc: 0.5520\n",
      "\n",
      "Training time: 3minutes 33.923808336257935s\n",
      "Best val Acc: 0.593491\n"
     ]
    },
    {
     "data": {
      "image/png": "[encoded data removed]",
      "text/plain": [
       "<Figure size 432x288 with 1 Axes>"
      ]
     },
     "metadata": {
      "needs_background": "light"
     },
     "output_type": "display_data"
    },
    {
     "data": {
      "image/png": "[encoded data removed]",
      "text/plain": [
       "<Figure size 432x288 with 1 Axes>"
      ]
     },
     "metadata": {
      "needs_background": "light"
     },
     "output_type": "display_data"
    }
   ],
   "source": [
    "master.train(num_epochs= 10, learning_rate=1e-4, print_every=4, verbose=True, save=True, checkpoint_every=5)"
   ]
  },
  {
   "cell_type": "code",
   "execution_count": null,
   "metadata": {},
   "outputs": [],
   "source": []
  },
  {
   "cell_type": "code",
   "execution_count": null,
   "metadata": {},
   "outputs": [],
   "source": []
  },
  {
   "cell_type": "code",
   "execution_count": null,
   "metadata": {},
   "outputs": [],
   "source": []
  },
  {
   "cell_type": "code",
   "execution_count": null,
   "metadata": {},
   "outputs": [],
   "source": []
  },
  {
   "cell_type": "code",
   "execution_count": null,
   "metadata": {},
   "outputs": [],
   "source": []
  },
  {
   "cell_type": "code",
   "execution_count": null,
   "metadata": {},
   "outputs": [],
   "source": []
  },
  {
   "cell_type": "code",
   "execution_count": null,
   "metadata": {},
   "outputs": [],
   "source": []
  },
  {
   "cell_type": "code",
   "execution_count": null,
   "metadata": {},
   "outputs": [],
   "source": []
  },
  {
   "cell_type": "code",
   "execution_count": null,
   "metadata": {
    "scrolled": true
   },
   "outputs": [],
   "source": [
    "start = time.time()\n",
    "batch = next(iter(master.dataloaders['train']))\n",
    "print(f'time for fetching one batch - {time.time() - start}')"
   ]
  },
  {
   "cell_type": "code",
   "execution_count": 79,
   "metadata": {},
   "outputs": [
    {
     "data": {
      "text/plain": [
       "(torch.Size([32, 3, 84, 135]), torch.Size([32]))"
      ]
     },
     "execution_count": 79,
     "metadata": {},
     "output_type": "execute_result"
    }
   ],
   "source": [
    "batch[0].shape,batch[1].shape"
   ]
  }
 ],
 "metadata": {
  "kernelspec": {
   "display_name": "Python 3",
   "language": "python",
   "name": "python3"
  },
  "language_info": {
   "codemirror_mode": {
    "name": "ipython",
    "version": 3
   },
   "file_extension": ".py",
   "mimetype": "text/x-python",
   "name": "python",
   "nbconvert_exporter": "python",
   "pygments_lexer": "ipython3",
   "version": "3.7.3"
  }
 },
 "nbformat": 4,
 "nbformat_minor": 4
}
