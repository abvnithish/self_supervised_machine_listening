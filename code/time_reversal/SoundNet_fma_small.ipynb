{
 "cells": [
  {
   "cell_type": "code",
   "execution_count": 1,
   "metadata": {},
   "outputs": [],
   "source": [
    "%load_ext autoreload"
   ]
  },
  {
   "cell_type": "code",
   "execution_count": 2,
   "metadata": {},
   "outputs": [],
   "source": [
    "%autoreload 2"
   ]
  },
  {
   "cell_type": "code",
   "execution_count": 3,
   "metadata": {},
   "outputs": [],
   "source": [
    "from soundNet2 import *"
   ]
  },
  {
   "cell_type": "code",
   "execution_count": 4,
   "metadata": {},
   "outputs": [],
   "source": [
    "DEVICE = torch.device('cuda:0' if torch.cuda.is_available() else 'cpu')\n",
    "ROOT_DIR = '/beegfs/bva212/fma_small_cqt/'\n",
    "PATH_FILE = 'checksums'\n",
    "BATCH_SIZE = 32\n",
    "VAL_SPLIT = 0.2\n",
    "TRANSFORM_PROB  = 0.5\n",
    "SR = 22050\n",
    "MODEL_SAVE_PATH = '/beegfs/bva212/soundNet_time_reversal_8Oct_96_8.pth'"
   ]
  },
  {
   "cell_type": "code",
   "execution_count": 5,
   "metadata": {
    "scrolled": true
   },
   "outputs": [
    {
     "name": "stdout",
     "output_type": "stream",
     "text": [
      "Getting Train & Validation Datasets\n",
      "Excluding these 3 files - ['098/098567.mp3_cqt.npy', '098/098565.mp3_cqt.npy', '098/098569.mp3_cqt.npy']\n",
      "There are a total of 7836 music files in the root directory\n",
      "# Training samples: 6268 \t # Validation samples: 1567\n",
      "\t --Done\n",
      "Creating Train & Validation Dataloaders\n",
      "Length of Train dataloader: 196 \t Validation dataloader: 49\n",
      "\t --Done\n",
      "Instantiating 5 Conv Layer Sound Net Model\n",
      "\t --Done\n",
      "Init actions done\n",
      "time for instantiating sound net object - 5.591730833053589\n"
     ]
    }
   ],
   "source": [
    "start = time.time()\n",
    "soundnet = soundNet(DEVICE, ROOT_DIR, PATH_FILE, SR, BATCH_SIZE, VAL_SPLIT, TRANSFORM_PROB)\n",
    "print(f'time for instantiating sound net object - {time.time() - start}')"
   ]
  },
  {
   "cell_type": "code",
   "execution_count": 6,
   "metadata": {},
   "outputs": [
    {
     "data": {
      "text/plain": [
       "DataParallel(\n",
       "  (module): snet(\n",
       "    (conv_layers): Sequential(\n",
       "      (0): Conv2d(1, 16, kernel_size=(5, 5), stride=(2, 2), padding=(2, 2))\n",
       "      (1): BatchNorm2d(16, eps=1e-05, momentum=0.1, affine=True, track_running_stats=True)\n",
       "      (2): ReLU(inplace)\n",
       "      (3): MaxPool2d(kernel_size=3, stride=(1, 2), padding=0, dilation=1, ceil_mode=False)\n",
       "      (4): Conv2d(16, 32, kernel_size=(5, 5), stride=(2, 2), padding=(2, 2))\n",
       "      (5): BatchNorm2d(32, eps=1e-05, momentum=0.1, affine=True, track_running_stats=True)\n",
       "      (6): ReLU(inplace)\n",
       "      (7): MaxPool2d(kernel_size=3, stride=(1, 2), padding=0, dilation=1, ceil_mode=False)\n",
       "      (8): Conv2d(32, 64, kernel_size=(4, 4), stride=(2, 2), padding=(2, 2))\n",
       "      (9): BatchNorm2d(64, eps=1e-05, momentum=0.1, affine=True, track_running_stats=True)\n",
       "      (10): ReLU(inplace)\n",
       "      (11): Conv2d(64, 128, kernel_size=(4, 4), stride=(2, 2), padding=(2, 2))\n",
       "      (12): BatchNorm2d(128, eps=1e-05, momentum=0.1, affine=True, track_running_stats=True)\n",
       "      (13): ReLU(inplace)\n",
       "      (14): Conv2d(128, 256, kernel_size=(4, 4), stride=(2, 2), padding=(2, 2))\n",
       "      (15): BatchNorm2d(256, eps=1e-05, momentum=0.1, affine=True, track_running_stats=True)\n",
       "      (16): ReLU(inplace)\n",
       "      (17): MaxPool2d(kernel_size=4, stride=1, padding=0, dilation=1, ceil_mode=False)\n",
       "    )\n",
       "    (mlp_layer): Linear(in_features=256, out_features=2, bias=True)\n",
       "  )\n",
       ")"
      ]
     },
     "execution_count": 6,
     "metadata": {},
     "output_type": "execute_result"
    }
   ],
   "source": [
    "soundnet.model"
   ]
  },
  {
   "cell_type": "code",
   "execution_count": 7,
   "metadata": {
    "scrolled": true
   },
   "outputs": [
    {
     "name": "stdout",
     "output_type": "stream",
     "text": [
      "time for fetching one batch - 0.1466529369354248\n"
     ]
    }
   ],
   "source": [
    "start = time.time()\n",
    "next(iter(soundnet.dataloaders['train']))\n",
    "print(f'time for fetching one batch - {time.time() - start}')"
   ]
  },
  {
   "cell_type": "code",
   "execution_count": 8,
   "metadata": {
    "scrolled": false
   },
   "outputs": [
    {
     "name": "stdout",
     "output_type": "stream",
     "text": [
      "Instantiating Optimzer, Loss Criterion, Scheduler\n",
      "\t --Done\n",
      "Training started\n",
      "Epoch 1/25\n",
      "----------\n",
      "train Loss: 0.5827 Acc: 0.713896\n",
      "valid Loss: 0.4381 Acc: 0.8864\n",
      "\n",
      "Epoch 2/25\n",
      "----------\n",
      "train Loss: 0.4110 Acc: 0.907996\n",
      "valid Loss: 0.3956 Acc: 0.9209\n",
      "\n",
      "Epoch 3/25\n",
      "----------\n",
      "train Loss: 0.3961 Acc: 0.919496\n",
      "valid Loss: 0.3996 Acc: 0.9049\n",
      "\n",
      "Epoch 4/25\n",
      "----------\n",
      "train Loss: 0.3830 Acc: 0.931996\n",
      "valid Loss: 0.4177 Acc: 0.8883\n",
      "\n",
      "Epoch 5/25\n",
      "----------\n",
      "train Loss: 0.3773 Acc: 0.936796\n",
      "valid Loss: 0.3852 Acc: 0.9266\n",
      "\n",
      "Epoch 6/25\n",
      "----------\n",
      "train Loss: 0.3788 Acc: 0.931796\n",
      "valid Loss: 0.4057 Acc: 0.9030\n",
      "\n",
      "Epoch 7/25\n",
      "----------\n",
      "train Loss: 0.3709 Acc: 0.943096\n",
      "valid Loss: 0.4225 Acc: 0.8826\n",
      "\n",
      "Epoch 8/25\n",
      "----------\n",
      "train Loss: 0.3641 Acc: 0.949196\n",
      "valid Loss: 0.3952 Acc: 0.9145\n",
      "\n",
      "Epoch 9/25\n",
      "----------\n",
      "train Loss: 0.3607 Acc: 0.953696\n",
      "valid Loss: 0.3582 Acc: 0.9572\n",
      "\n",
      "Epoch 10/25\n",
      "----------\n",
      "train Loss: 0.3599 Acc: 0.952396\n",
      "valid Loss: 0.3522 Acc: 0.9617\n",
      "\n",
      "Epoch 11/25\n",
      "----------\n",
      "train Loss: 0.3585 Acc: 0.954296\n",
      "valid Loss: 0.3539 Acc: 0.9611\n",
      "\n",
      "Epoch 12/25\n",
      "----------\n",
      "train Loss: 0.3603 Acc: 0.951396\n",
      "valid Loss: 0.3565 Acc: 0.9560\n",
      "\n",
      "Epoch 13/25\n",
      "----------\n",
      "train Loss: 0.3576 Acc: 0.956696\n",
      "valid Loss: 0.3595 Acc: 0.9509\n",
      "\n",
      "Epoch 14/25\n",
      "----------\n",
      "train Loss: 0.3627 Acc: 0.949396\n",
      "valid Loss: 0.3563 Acc: 0.9560\n",
      "\n",
      "Epoch 15/25\n",
      "----------\n",
      "train Loss: 0.3609 Acc: 0.951296\n",
      "valid Loss: 0.3526 Acc: 0.9592\n",
      "\n",
      "Epoch 16/25\n",
      "----------\n",
      "train Loss: 0.3587 Acc: 0.954796\n",
      "valid Loss: 0.3542 Acc: 0.9592\n",
      "\n",
      "Epoch 17/25\n",
      "----------\n",
      "train Loss: 0.3592 Acc: 0.952896\n",
      "valid Loss: 0.3478 Acc: 0.9668\n",
      "\n",
      "Epoch 18/25\n",
      "----------\n",
      "train Loss: 0.3587 Acc: 0.953996\n",
      "valid Loss: 0.3530 Acc: 0.9592\n",
      "\n",
      "Epoch 19/25\n",
      "----------\n",
      "train Loss: 0.3589 Acc: 0.954196\n",
      "valid Loss: 0.3548 Acc: 0.9585\n",
      "\n",
      "Epoch 20/25\n",
      "----------\n",
      "train Loss: 0.3582 Acc: 0.954996\n",
      "valid Loss: 0.3495 Acc: 0.9662\n",
      "\n",
      "Epoch 21/25\n",
      "----------\n",
      "train Loss: 0.3583 Acc: 0.953796\n",
      "valid Loss: 0.3527 Acc: 0.9611\n",
      "\n",
      "Epoch 22/25\n",
      "----------\n",
      "train Loss: 0.3631 Acc: 0.946796\n",
      "valid Loss: 0.3592 Acc: 0.9547\n",
      "\n",
      "Epoch 23/25\n",
      "----------\n",
      "train Loss: 0.3624 Acc: 0.948696\n",
      "valid Loss: 0.3511 Acc: 0.9630\n",
      "\n",
      "Epoch 24/25\n",
      "----------\n",
      "train Loss: 0.3572 Acc: 0.956196\n",
      "valid Loss: 0.3492 Acc: 0.9681\n",
      "\n",
      "Epoch 25/25\n",
      "----------\n",
      "train Loss: 0.3575 Acc: 0.956996\n",
      "valid Loss: 0.3460 Acc: 0.9687\n",
      "\n",
      "Training time: 16minutes 6.360805034637451s\n",
      "Best val Acc: 0.968730\n"
     ]
    },
    {
     "data": {
      "image/png": "[encoded data removed]",
      "text/plain": [
       "<Figure size 432x288 with 1 Axes>"
      ]
     },
     "metadata": {
      "needs_background": "light"
     },
     "output_type": "display_data"
    },
    {
     "data": {
      "image/png": "[encoded data removed]",
      "text/plain": [
       "<Figure size 432x288 with 1 Axes>"
      ]
     },
     "metadata": {
      "needs_background": "light"
     },
     "output_type": "display_data"
    }
   ],
   "source": [
    "soundnet.train(num_epochs= 25, learning_rate=1e-4, print_every=1, verbose=True)"
   ]
  },
  {
   "cell_type": "code",
   "execution_count": 13,
   "metadata": {},
   "outputs": [],
   "source": [
    "# torch.save(soundnet.model.state_dict(), '/beegfs/bva212/soundNet_time_reversal_8Oct_96_8.pth')"
   ]
  }
 ],
 "metadata": {
  "kernelspec": {
   "display_name": "dl4med",
   "language": "python",
   "name": "dl4med"
  },
  "language_info": {
   "codemirror_mode": {
    "name": "ipython",
    "version": 3
   },
   "file_extension": ".py",
   "mimetype": "text/x-python",
   "name": "python",
   "nbconvert_exporter": "python",
   "pygments_lexer": "ipython3",
   "version": "3.6.3"
  }
 },
 "nbformat": 4,
 "nbformat_minor": 4
}
