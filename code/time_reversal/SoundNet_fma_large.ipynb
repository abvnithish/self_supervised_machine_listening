{
 "cells": [
  {
   "cell_type": "code",
   "execution_count": 1,
   "metadata": {},
   "outputs": [],
   "source": [
    "%load_ext autoreload"
   ]
  },
  {
   "cell_type": "code",
   "execution_count": 2,
   "metadata": {},
   "outputs": [],
   "source": [
    "%autoreload 2"
   ]
  },
  {
   "cell_type": "code",
   "execution_count": 3,
   "metadata": {},
   "outputs": [],
   "source": [
    "from soundNet3 import *"
   ]
  },
  {
   "cell_type": "code",
   "execution_count": 4,
   "metadata": {},
   "outputs": [],
   "source": [
    "DEVICE = torch.device('cuda:0' if torch.cuda.is_available() else 'cpu')\n",
    "ROOT_DIR = '/beegfs/bva212/fma_large_cqt/'\n",
    "PATH_FILE = 'checksums'\n",
    "BATCH_SIZE = 32\n",
    "VAL_SPLIT = 0.2\n",
    "TRANSFORM_PROB  = 0.5\n",
    "SR = 22050\n",
    "MODEL_SAVE_PATH = '/beegfs/bva212/soundNet_time_reversal_8Oct_96_8.pth'"
   ]
  },
  {
   "cell_type": "code",
   "execution_count": 5,
   "metadata": {
    "scrolled": true
   },
   "outputs": [
    {
     "name": "stdout",
     "output_type": "stream",
     "text": [
      "Getting Train & Validation Datasets\n",
      "Excluding these 1369\n",
      "There are a total of 63659 music files in the root directory\n",
      "# Training samples: 50926 \t # Validation samples: 12732\n",
      "\t --Done\n",
      "Creating Train & Validation Dataloaders\n",
      "Length of Train dataloader: 1592 \t Validation dataloader: 398\n",
      "\t --Done\n",
      "Instantiating 5 Conv Layer Sound Net Model\n",
      "\t --Done\n",
      "Init actions done\n",
      "time for instantiating sound net object - 49.56478428840637\n"
     ]
    }
   ],
   "source": [
    "start = time.time()\n",
    "soundnet = soundNet(DEVICE, ROOT_DIR, PATH_FILE, SR, BATCH_SIZE, VAL_SPLIT, TRANSFORM_PROB)\n",
    "print(f'time for instantiating sound net object - {time.time() - start}')"
   ]
  },
  {
   "cell_type": "code",
   "execution_count": 6,
   "metadata": {},
   "outputs": [
    {
     "data": {
      "text/plain": [
       "DataParallel(\n",
       "  (module): snet(\n",
       "    (conv_layers): Sequential(\n",
       "      (0): Conv2d(1, 16, kernel_size=(5, 5), stride=(2, 2), padding=(2, 2))\n",
       "      (1): BatchNorm2d(16, eps=1e-05, momentum=0.1, affine=True, track_running_stats=True)\n",
       "      (2): ReLU(inplace)\n",
       "      (3): MaxPool2d(kernel_size=3, stride=(1, 2), padding=0, dilation=1, ceil_mode=False)\n",
       "      (4): Conv2d(16, 32, kernel_size=(5, 5), stride=(2, 2), padding=(2, 2))\n",
       "      (5): BatchNorm2d(32, eps=1e-05, momentum=0.1, affine=True, track_running_stats=True)\n",
       "      (6): ReLU(inplace)\n",
       "      (7): MaxPool2d(kernel_size=3, stride=(1, 2), padding=0, dilation=1, ceil_mode=False)\n",
       "      (8): Conv2d(32, 64, kernel_size=(4, 4), stride=(2, 2), padding=(2, 2))\n",
       "      (9): BatchNorm2d(64, eps=1e-05, momentum=0.1, affine=True, track_running_stats=True)\n",
       "      (10): ReLU(inplace)\n",
       "      (11): Conv2d(64, 128, kernel_size=(4, 4), stride=(2, 2), padding=(2, 2))\n",
       "      (12): BatchNorm2d(128, eps=1e-05, momentum=0.1, affine=True, track_running_stats=True)\n",
       "      (13): ReLU(inplace)\n",
       "      (14): Conv2d(128, 256, kernel_size=(4, 4), stride=(2, 2), padding=(2, 2))\n",
       "      (15): BatchNorm2d(256, eps=1e-05, momentum=0.1, affine=True, track_running_stats=True)\n",
       "      (16): ReLU(inplace)\n",
       "      (17): MaxPool2d(kernel_size=4, stride=1, padding=0, dilation=1, ceil_mode=False)\n",
       "    )\n",
       "    (mlp_layer): Linear(in_features=256, out_features=2, bias=True)\n",
       "  )\n",
       ")"
      ]
     },
     "execution_count": 6,
     "metadata": {},
     "output_type": "execute_result"
    }
   ],
   "source": [
    "soundnet.model"
   ]
  },
  {
   "cell_type": "code",
   "execution_count": 7,
   "metadata": {
    "scrolled": true
   },
   "outputs": [
    {
     "name": "stdout",
     "output_type": "stream",
     "text": [
      "time for fetching one batch - 3.756500244140625\n"
     ]
    }
   ],
   "source": [
    "start = time.time()\n",
    "next(iter(soundnet.dataloaders['train']))\n",
    "print(f'time for fetching one batch - {time.time() - start}')"
   ]
  },
  {
   "cell_type": "code",
   "execution_count": null,
   "metadata": {
    "scrolled": false
   },
   "outputs": [
    {
     "name": "stdout",
     "output_type": "stream",
     "text": [
      "Instantiating Optimzer, Loss Criterion, Scheduler\n",
      "\t --Done\n",
      "Training started\n",
      "Epoch 1/25\n",
      "----------\n",
      "train Loss: 0.2727 Acc: 0.86821592\n",
      "valid Loss: 0.2292 Acc: 0.892798\n",
      "\n",
      "Epoch 2/25\n",
      "----------\n",
      "train Loss: 0.1713 Acc: 0.92301592\n",
      "valid Loss: 0.1652 Acc: 0.927198\n",
      "\n",
      "Epoch 3/25\n",
      "----------\n",
      "train Loss: 0.1538 Acc: 0.93181592\n",
      "valid Loss: 0.1388 Acc: 0.940698\n",
      "\n",
      "Epoch 4/25\n",
      "----------\n",
      "train Loss: 0.1413 Acc: 0.93661592\n",
      "valid Loss: 0.1269 Acc: 0.943498\n",
      "\n",
      "Epoch 5/25\n",
      "----------\n",
      "Phase: train   Iteration 440/1592\r"
     ]
    }
   ],
   "source": [
    "soundnet.train(num_epochs= 25, learning_rate=1e-4, print_every=1, verbose=True)"
   ]
  },
  {
   "cell_type": "code",
   "execution_count": null,
   "metadata": {},
   "outputs": [],
   "source": []
  },
  {
   "cell_type": "code",
   "execution_count": null,
   "metadata": {},
   "outputs": [],
   "source": []
  }
 ],
 "metadata": {
  "kernelspec": {
   "display_name": "dl4med",
   "language": "python",
   "name": "dl4med"
  },
  "language_info": {
   "codemirror_mode": {
    "name": "ipython",
    "version": 3
   },
   "file_extension": ".py",
   "mimetype": "text/x-python",
   "name": "python",
   "nbconvert_exporter": "python",
   "pygments_lexer": "ipython3",
   "version": "3.6.3"
  }
 },
 "nbformat": 4,
 "nbformat_minor": 4
}
